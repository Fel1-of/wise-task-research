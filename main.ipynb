{
  "nbformat": 4,
  "nbformat_minor": 0,
  "metadata": {
    "colab": {
      "provenance": []
    },
    "kernelspec": {
      "name": "python3",
      "display_name": "Python 3"
    },
    "language_info": {
      "name": "python"
    }
  },
  "cells": [
    {
      "cell_type": "code",
      "source": [
        "!pip install networkx"
      ],
      "metadata": {
        "id": "OB0qY6lCL4HW"
      },
      "execution_count": null,
      "outputs": []
    },
    {
      "cell_type": "markdown",
      "source": [
        "##Методы для работы с графами:\n",
        " - nx.Graph(): Создает пустой граф.\n",
        " - G.add_node(node): Добавляет одну вершину в граф.\n",
        " - G.add_nodes_from(nodes): Добавляет несколько вершин в граф.\n",
        " - G.add_edge(u, v): Добавляет ребро между вершинами u и v.\n",
        " - G.add_edges_from(edges): Добавляет несколько ребер в граф.\n",
        " - G.nodes(): Возвращает список всех вершин в графе.\n",
        " - G.edges(): Возвращает список всех ребер в графе.\n",
        " - G.degree(node): Возвращает степень вершины (количество ребер, соединенных с вершиной).\n",
        " - G.number_of_nodes(): Возвращает количество вершин в графе.\n",
        " - G.number_of_edges(): Возвращает количество ребер в графе.\n",
        " - G.neighbors(node): Возвращает список вершин, соединенных с данной вершиной.\n",
        " - G.adjacency(): Возвращает словарь, где ключи - вершины, а значения - списки вершин, соединенных с ключом.\n",
        " - G.subgraph(nodes): Возвращает подграф, содержащий только указанные вершины.\n",
        " - G.copy(): Возвращает копию графа.\n",
        "##Методы для работы с вершинами:\n",
        " - G.nodes(data=True): Возвращает список вершин с данными.\n",
        " - G.nodes.data(): Возвращает итератор, который генерирует пары (узел, данные).\n",
        " - G.nodes.get(node): Возвращает данные вершины.\n",
        " - G.nodes.set(node, **attr): Устанавливает данные вершины.\n",
        " - G.nodes.remove(node): Удаляет вершину из графа.\n",
        "##Методы для работы с ребрами:\n",
        " - G.edges(data=True): Возвращает список ребер с данными.\n",
        " - G.edges.data(): Возвращает итератор, который генерирует пары (ребро, данные).\n",
        " - G.edges.get(edge): Возвращает данные ребра.\n",
        " - G.edges.set(edge, **attr): Устанавливает данные ребра.\n",
        " - G.edges.remove(edge): Удаляет ребро из графа."
      ],
      "metadata": {
        "id": "rqv5LSrmVvbO"
      }
    },
    {
      "cell_type": "markdown",
      "source": [
        "_____________________________________________________________________"
      ],
      "metadata": {
        "id": "fAJGDOcianef"
      }
    },
    {
      "cell_type": "markdown",
      "source": [
        "##Список дел\n",
        "\n",
        "число вершин - ✔\n",
        "\n",
        "число ребер - ✔\n",
        "\n",
        "диаметр графа - ✔\n",
        "\n",
        "радиус графа - ✔\n",
        "\n",
        "число компонент связности - X\n",
        "\n",
        "цикломатическое число - X\n",
        "\n",
        "среднее значение степеней вершин - ✔\n",
        "\n",
        "максимальная степень вершины - ✔\n",
        "\n",
        "минимальная степень вершины - ✔\n",
        "\n",
        "медиана значений степеней вершин - ✔\n",
        "\n",
        "мода степеней вершин - ✔\n",
        "\n",
        "хроматическое число - ✔ (Требует проверки)\n",
        "\n",
        "планарность - X\n",
        "\n",
        "Для планарных графов:\n",
        "\n",
        "число граней - X\n",
        "\n",
        "среднее значение числа рёбер в грани - X\n",
        "\n",
        "медианное значение - X\n",
        "\n",
        "максимальное и минимальное значение - X"
      ],
      "metadata": {
        "id": "19PxefPFWOns"
      }
    },
    {
      "cell_type": "markdown",
      "source": [
        "_____________________________________________________________________"
      ],
      "metadata": {
        "id": "HFFDPfHTasOR"
      }
    },
    {
      "cell_type": "markdown",
      "source": [
        "Импорт библиотек"
      ],
      "metadata": {
        "id": "eraJh-iFbxJw"
      }
    },
    {
      "cell_type": "code",
      "execution_count": null,
      "metadata": {
        "id": "4bCUeN5uL2oO"
      },
      "outputs": [],
      "source": [
        "import networkx as nx\n",
        "import matplotlib.pyplot as plt\n",
        "import random"
      ]
    },
    {
      "cell_type": "markdown",
      "source": [
        "Функция для генерации графа"
      ],
      "metadata": {
        "id": "Is-o63O1bOR6"
      }
    },
    {
      "cell_type": "code",
      "source": [
        "def generate_random_graph(num_nodes, edge_probability):\n",
        "    \"\"\"\n",
        "    Генерирует случайный граф с заданным количеством узлов и вероятностью создания ребра.\n",
        "\n",
        "    :param num_nodes: Количество узлов в графе.\n",
        "    :param edge_probability: Вероятность создания ребра между двумя узлами.\n",
        "    :return: Сгенерированный граф.\n",
        "    \"\"\"\n",
        "    G = nx.Graph()\n",
        "    # Добавляем узлы в граф\n",
        "    G.add_nodes_from(range(num_nodes))\n",
        "\n",
        "    # Создаем ребра с учетом вероятности\n",
        "    for i in range(num_nodes):\n",
        "        for j in range(i+1, num_nodes):\n",
        "            if random.random() < edge_probability:\n",
        "                G.add_edge(i, j)\n",
        "\n",
        "    return G"
      ],
      "metadata": {
        "id": "CxjnzCJGWUz7"
      },
      "execution_count": null,
      "outputs": []
    },
    {
      "cell_type": "markdown",
      "source": [
        "Сохранение графа в виде графика"
      ],
      "metadata": {
        "id": "93ACBiIFbVjV"
      }
    },
    {
      "cell_type": "code",
      "source": [
        "def save_graph(G, filename):\n",
        "    \"\"\"\n",
        "    Сохраняет граф G в файл с заданным именем.\n",
        "\n",
        "    :param G: Граф для сохранения.\n",
        "    :param filename: Имя файла для сохранения графа.\n",
        "    \"\"\"\n",
        "    plt.figure(figsize=(10, 10))\n",
        "    nx.draw(G, with_labels=True)\n",
        "    plt.savefig(filename, dpi=300)\n",
        "    plt.close()"
      ],
      "metadata": {
        "id": "W7Aazrg2bVQh"
      },
      "execution_count": null,
      "outputs": []
    },
    {
      "cell_type": "markdown",
      "source": [
        "Вычисление диаметра и радиуса"
      ],
      "metadata": {
        "id": "kfsDM67nbfE0"
      }
    },
    {
      "cell_type": "code",
      "source": [
        "def calculate_diameter_and_radius(G):\n",
        "    \"\"\"\n",
        "    Вычисляет диаметр и радиус графа.\n",
        "\n",
        "    Диаметр графа определяется как максимальное расстояние между двумя вершинами графа.\n",
        "    Радиус графа определяется как минимальное из максимальных расстояний от каждой вершины до всех остальных вершин.\n",
        "\n",
        "    :param G: Граф, для которого вычисляются диаметр и радиус.\n",
        "    :return: Кортеж, содержащий диаметр и радиус графа.\n",
        "    \"\"\"\n",
        "    diameter = nx.diameter(G)\n",
        "    radius = nx.radius(G)\n",
        "    return diameter, radius"
      ],
      "metadata": {
        "id": "jV5o0OlubfTp"
      },
      "execution_count": null,
      "outputs": []
    },
    {
      "cell_type": "markdown",
      "source": [
        "Число компонент связности"
      ],
      "metadata": {
        "id": "NfKEk5kFkadP"
      }
    },
    {
      "cell_type": "code",
      "source": [
        "def number_connected_components(G):\n",
        "  \"\"\"\n",
        "  Вычисляет число компонент связности графа G.\n",
        "  \"\"\"\n",
        "  return nx.number_connected_components(G)"
      ],
      "metadata": {
        "id": "FfiXiUpSkaxI"
      },
      "execution_count": null,
      "outputs": []
    },
    {
      "cell_type": "markdown",
      "source": [
        "Цикломатическое число"
      ],
      "metadata": {
        "id": "ZYudUhjXkfoh"
      }
    },
    {
      "cell_type": "code",
      "source": [],
      "metadata": {
        "id": "ngjsBBVokfuH"
      },
      "execution_count": null,
      "outputs": []
    },
    {
      "cell_type": "markdown",
      "source": [
        "Значение степеней вершин"
      ],
      "metadata": {
        "id": "yMD--hEqk49A"
      }
    },
    {
      "cell_type": "code",
      "source": [
        "from collections import Counter\n",
        "def meaning_of_degrees(G):\n",
        "    \"\"\"\n",
        "    Вычисляет максимальное, минимальное, среднее, медианное значение и моду степеней вершин в графе.\n",
        "\n",
        "    Степень вершины определяется как количество ребер, соединенных с этой вершиной.\n",
        "\n",
        "    :param G: Граф, для которого вычисляются значения.\n",
        "    :return: Кортеж, содержащий максимальное, минимальное, среднее и медианное значение степеней вершин.\n",
        "    \"\"\"\n",
        "    degrees = [val for (node, val) in G.degree()]\n",
        "    max_value = max(degrees)\n",
        "    min_value = min(degrees)\n",
        "    mean_value = sum(degrees) / len(degrees)\n",
        "    median_value = sorted(degrees)[len(degrees) // 2]\n",
        "    degree_counts = Counter(degrees)\n",
        "    mode_value = degree_counts.most_common(1)[0][0]\n",
        "\n",
        "    return max_value, min_value, mean_value, median_value, mode_value"
      ],
      "metadata": {
        "id": "Beq4cOjMk5Cv"
      },
      "execution_count": null,
      "outputs": []
    },
    {
      "cell_type": "markdown",
      "source": [
        "Хроматическое число"
      ],
      "metadata": {
        "id": "YbMUKtYcb6_q"
      }
    },
    {
      "cell_type": "code",
      "source": [
        "def is_safe(vertex, color, color_map, G):\n",
        "    \"\"\"\n",
        "    Проверяет, можно ли безопасно окрасить вершину в указанный цвет.\n",
        "\n",
        "    :param vertex: Индекс вершины.\n",
        "    :param color: Цвет для окраски.\n",
        "    :param color_map: Текущее отображение вершин на цвета.\n",
        "    :param G: Граф.\n",
        "    :return: True, если окраска безопасна, иначе False.\n",
        "    \"\"\"\n",
        "    for neighbor in G.neighbors(vertex):\n",
        "        if color_map[neighbor] == color:\n",
        "            return False\n",
        "    return True\n",
        "\n",
        "\n",
        "def color_graph(vertex, num_colors, color_map, G):\n",
        "    \"\"\"\n",
        "    Рекурсивно пытается окрасить граф, начиная с указанной вершины.\n",
        "\n",
        "    :param vertex: Индекс вершины, с которой начинается окраска.\n",
        "    :param num_colors: Количество доступных цветов.\n",
        "    :param color_map: Текущее отображение вершин на цвета.\n",
        "    :return: True, если граф успешно окрашен, иначе False.\n",
        "    \"\"\"\n",
        "    if vertex == G.number_of_nodes():\n",
        "        return True\n",
        "\n",
        "    for color in range(num_colors):\n",
        "        if is_safe(vertex, color, color_map, G):\n",
        "            color_map[vertex] = color\n",
        "            if color_graph(vertex + 1, num_colors, color_map, G):\n",
        "                return True\n",
        "            color_map[vertex] = -1\n",
        "\n",
        "    return False\n",
        "\n",
        "\n",
        "def calculate_chromatic_number(G):\n",
        "    \"\"\"\n",
        "    Вычисляет хроматическое число графа с помощью алгоритма обратного отсчета.\n",
        "\n",
        "    :return: Хроматическое число графа.\n",
        "    \"\"\"\n",
        "    color_map = {node: -1 for node in G.nodes()}\n",
        "    num_colors = 1\n",
        "\n",
        "    while not color_graph(0, num_colors, color_map, G):\n",
        "        num_colors += 1\n",
        "        color_map = {node: -1 for node in G.nodes()}\n",
        "\n",
        "    return num_colors"
      ],
      "metadata": {
        "id": "Y_lEa6tzb-ia"
      },
      "execution_count": null,
      "outputs": []
    },
    {
      "cell_type": "markdown",
      "source": [
        "Работа с графами"
      ],
      "metadata": {
        "id": "wb9rYZFDbiws"
      }
    },
    {
      "cell_type": "code",
      "source": [
        "for i in range(1):\n",
        "    num_nodes = random.randint(3, 5) # Количество узлов\n",
        "    edge_probability = random.random() # Вероятность создания ребра\n",
        "    G = generate_random_graph(num_nodes, edge_probability)\n",
        "    filename = f\"graph_{i}.png\"\n",
        "    save_graph(G, filename)\n",
        "    print(f\"Создан и сохранен граф: {filename}\")\n",
        "\n",
        "    diameter, radius = calculate_diameter_and_radius(G)\n",
        "    print(f\"Диаметр графа: {diameter}, Радиус графа: {radius}\")\n",
        "\n",
        "    max_degree, min_degree, mean_degree, median_degree, mode_value = meaning_of_degrees(G)\n",
        "    print(f\"Максимальная степень: {max_degree} \\nМинимальная степень: {min_degree}\\n\"\n",
        "          + f\"Средняя степень: {mean_degree} \\nМедианная степень: {median_degree}\" +\n",
        "          f\"\\nМода: {mode_value}\")\n",
        "\n",
        "    chromatic_number = calculate_chromatic_number(G)\n",
        "    print(f\"Хроматическое число графа: {chromatic_number}\")\n"
      ],
      "metadata": {
        "colab": {
          "base_uri": "https://localhost:8080/"
        },
        "id": "b1ddeCS9bi0x",
        "outputId": "30a7b8ce-3736-407a-9114-0d4aad80c302"
      },
      "execution_count": null,
      "outputs": [
        {
          "output_type": "stream",
          "name": "stdout",
          "text": [
            "Создан и сохранен граф: graph_0.png\n",
            "Диаметр графа: 1, Радиус графа: 1\n",
            "Максимальная степень: 3 \n",
            "Минимальная степень: 3\n",
            "Средняя степень: 3.0 \n",
            "Медианная степень: 3\n",
            "Мода: 3\n",
            "Хроматическое число графа: 4\n"
          ]
        }
      ]
    },
    {
      "cell_type": "markdown",
      "source": [
        "Тесты"
      ],
      "metadata": {
        "id": "_Eg-DILyg7p-"
      }
    },
    {
      "cell_type": "code",
      "source": [
        "G = nx.Graph()\n",
        "G.add_nodes_from(range(5))\n",
        "G.add_edge(0, 1)\n",
        "G.add_edge(0, 2)\n",
        "G.add_edge(1, 2)\n",
        "G.add_edge(1, 3)\n",
        "G.add_edge(2, 3)\n",
        "G.add_edge(3, 4)\n",
        "filename = f\"graph_{1}.png\"\n",
        "save_graph(G, filename)\n",
        "print(f\"Создан и сохранен граф: {filename}\")\n",
        "degrees = [(node, val) for (node, val) in G.degree()]\n",
        "print(degrees)"
      ],
      "metadata": {
        "colab": {
          "base_uri": "https://localhost:8080/"
        },
        "id": "2kw4itkbgq7a",
        "outputId": "eb71fba1-f722-4887-b445-08cff8b82ea8"
      },
      "execution_count": null,
      "outputs": [
        {
          "output_type": "stream",
          "name": "stdout",
          "text": [
            "Создан и сохранен граф: graph_1.png\n",
            "[(0, 2), (1, 3), (2, 3), (3, 3), (4, 1)]\n"
          ]
        }
      ]
    }
  ]
}