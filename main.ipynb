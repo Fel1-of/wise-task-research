{
  "cells": [
    {
      "cell_type": "code",
      "execution_count": null,
      "metadata": {
        "id": "OB0qY6lCL4HW"
      },
      "outputs": [
        {
          "name": "stdout",
          "output_type": "stream",
          "text": [
            "Requirement already satisfied: networkx in c:\\python311\\lib\\site-packages (3.3)\n",
            "Note: you may need to restart the kernel to use updated packages.\n"
          ]
        },
        {
          "name": "stderr",
          "output_type": "stream",
          "text": [
            "\n",
            "[notice] A new release of pip is available: 23.1.2 -> 24.0\n",
            "[notice] To update, run: python.exe -m pip install --upgrade pip\n"
          ]
        }
      ],
      "source": [
        "%pip install networkx"
      ]
    },
    {
      "cell_type": "markdown",
      "metadata": {},
      "source": [
        "##Методы для работы с графами:\n",
        " - nx.Graph(): Создает пустой граф.\n",
        " - G.add_node(node): Добавляет одну вершину в граф.\n",
        " - G.add_nodes_from(nodes): Добавляет несколько вершин в граф.\n",
        " - G.add_edge(u, v): Добавляет ребро между вершинами u и v.\n",
        " - G.add_edges_from(edges): Добавляет несколько ребер в граф.\n",
        " - G.nodes(): Возвращает список всех вершин в графе.\n",
        " - G.edges(): Возвращает список всех ребер в графе.\n",
        " - G.degree(node): Возвращает степень вершины (количество ребер, соединенных с вершиной).\n",
        " - G.number_of_nodes(): Возвращает количество вершин в графе.\n",
        " - G.number_of_edges(): Возвращает количество ребер в графе.\n",
        " - G.neighbors(node): Возвращает список вершин, соединенных с данной вершиной.\n",
        " - G.adjacency(): Возвращает словарь, где ключи - вершины, а значения - списки вершин, соединенных с ключом.\n",
        " - G.subgraph(nodes): Возвращает подграф, содержащий только указанные вершины.\n",
        " - G.copy(): Возвращает копию графа.\n",
        "##Методы для работы с вершинами:\n",
        " - G.nodes(data=True): Возвращает список вершин с данными.\n",
        " - G.nodes.data(): Возвращает итератор, который генерирует пары (узел, данные).\n",
        " - G.nodes.get(node): Возвращает данные вершины.\n",
        " - G.nodes.set(node, **attr): Устанавливает данные вершины.\n",
        " - G.nodes.remove(node): Удаляет вершину из графа.\n",
        "##Методы для работы с ребрами:\n",
        " - G.edges(data=True): Возвращает список ребер с данными.\n",
        " - G.edges.data(): Возвращает итератор, который генерирует пары (ребро, данные).\n",
        " - G.edges.get(edge): Возвращает данные ребра.\n",
        " - G.edges.set(edge, **attr): Устанавливает данные ребра.\n",
        " - G.edges.remove(edge): Удаляет ребро из графа."
      ]
    },
    {
      "cell_type": "markdown",
      "metadata": {
        "id": "fAJGDOcianef"
      },
      "source": [
        "_____________________________________________________________________"
      ]
    },
    {
      "cell_type": "markdown",
      "metadata": {
        "id": "19PxefPFWOns"
      },
      "source": [
        "##Список дел\n",
        "\n",
        "число вершин - ✔\n",
        "\n",
        "число ребер - ✔\n",
        "\n",
        "диаметр графа - ✔\n",
        "\n",
        "радиус графа - ✔\n",
        "\n",
        "число компонент связности - ✔\n",
        "\n",
        "цикломатическое число - ✔\n",
        "\n",
        "среднее значение степеней вершин - ✔\n",
        "\n",
        "максимальная степень вершины - ✔\n",
        "\n",
        "минимальная степень вершины - ✔\n",
        "\n",
        "медиана значений степеней вершин - ✔\n",
        "\n",
        "мода степеней вершин - ✔\n",
        "\n",
        "хроматическое число - ✔ (Требует проверки)\n",
        "\n",
        "планарность - ✔\n",
        "\n",
        "Для планарных графов:\n",
        "\n",
        "число граней - ✔ (нужно протестировать)\n",
        "\n",
        "среднее значение числа рёбер в грани - ✔\n",
        "\n",
        "медианное значение - ✔\n",
        "\n",
        "максимальное и минимальное значение - ✔"
      ]
    },
    {
      "cell_type": "markdown",
      "metadata": {
        "id": "HFFDPfHTasOR"
      },
      "source": [
        "_____________________________________________________________________"
      ]
    },
    {
      "cell_type": "markdown",
      "metadata": {
        "id": "eraJh-iFbxJw"
      },
      "source": [
        "Импорт библиотек"
      ]
    },
    {
      "cell_type": "code",
      "execution_count": null,
      "metadata": {
        "id": "4bCUeN5uL2oO"
      },
      "outputs": [],
      "source": [
        "import networkx as nx\n",
        "import numpy as np\n",
        "import matplotlib.pyplot as plt\n",
        "import random"
      ]
    },
    {
      "cell_type": "markdown",
      "metadata": {
        "id": "Is-o63O1bOR6"
      },
      "source": [
        "Функция для генерации графа"
      ]
    },
    {
      "cell_type": "code",
      "execution_count": null,
      "metadata": {
        "id": "CxjnzCJGWUz7"
      },
      "outputs": [],
      "source": [
        "def generate_random_graph(num_nodes, edge_probability):\n",
        "    \"\"\"\n",
        "    Генерирует случайный граф с заданным количеством узлов и вероятностью создания ребра.\n",
        "\n",
        "    :param num_nodes: Количество узлов в графе.\n",
        "    :param edge_probability: Вероятность создания ребра между двумя узлами.\n",
        "    :return: Сгенерированный граф.\n",
        "    \"\"\"\n",
        "    G = nx.Graph()\n",
        "    # Добавляем узлы в граф\n",
        "    G.add_nodes_from(range(num_nodes))\n",
        "\n",
        "    # Создаем ребра с учетом вероятности\n",
        "    for i in range(num_nodes):\n",
        "        for j in range(i+1, num_nodes):\n",
        "            if random.random() < edge_probability:\n",
        "                G.add_edge(i, j)\n",
        "\n",
        "    return G"
      ]
    },
    {
      "cell_type": "markdown",
      "metadata": {
        "id": "93ACBiIFbVjV"
      },
      "source": [
        "Сохранение графа в виде графика"
      ]
    },
    {
      "cell_type": "code",
      "execution_count": null,
      "metadata": {
        "id": "W7Aazrg2bVQh"
      },
      "outputs": [],
      "source": [
        "def save_graph(G, filename):\n",
        "    \"\"\"\n",
        "    Сохраняет граф G в файл с заданным именем.\n",
        "\n",
        "    :param G: Граф для сохранения.\n",
        "    :param filename: Имя файла для сохранения графа.\n",
        "    \"\"\"\n",
        "    plt.figure(figsize=(10, 10))\n",
        "    nx.draw(G, with_labels=True)\n",
        "    plt.draw()\n",
        "    plt.savefig(filename, dpi=300)\n",
        "    plt.close()"
      ]
    },
    {
      "cell_type": "markdown",
      "metadata": {
        "id": "kfsDM67nbfE0"
      },
      "source": [
        "Вычисление диаметра и радиуса"
      ]
    },
    {
      "cell_type": "code",
      "execution_count": null,
      "metadata": {
        "id": "jV5o0OlubfTp"
      },
      "outputs": [],
      "source": [
        "def calculate_diameter_and_radius(G):\n",
        "    \"\"\"\n",
        "    Вычисляет диаметр и радиус графа.\n",
        "\n",
        "    Диаметр графа определяется как максимальное расстояние между двумя вершинами графа.\n",
        "    Радиус графа определяется как минимальное из максимальных расстояний от каждой вершины до всех остальных вершин.\n",
        "\n",
        "    :param G: Граф, для которого вычисляются диаметр и радиус.\n",
        "    :return: Кортеж, содержащий диаметр и радиус графа.\n",
        "    \"\"\"\n",
        "    diameter = None\n",
        "    radius = None\n",
        "    if G.is_connected():\n",
        "      diameter = nx.diameter(G)\n",
        "      radius = nx.radius(G)\n",
        "    return diameter, radius"
      ]
    },
    {
      "cell_type": "markdown",
      "metadata": {
        "id": "NfKEk5kFkadP"
      },
      "source": [
        "Число компонент связности"
      ]
    },
    {
      "cell_type": "code",
      "execution_count": null,
      "metadata": {
        "id": "FfiXiUpSkaxI"
      },
      "outputs": [],
      "source": [
        "def number_connected_components(G):\n",
        "  \"\"\"\n",
        "  Вычисляет число компонент связности графа G.\n",
        "\n",
        "  :param G: Граф, для которого вычисляется число компонент связности.\n",
        "  :return: Число компонент связности графа G.\n",
        "  \"\"\"\n",
        "  return nx.number_connected_components(G)"
      ]
    },
    {
      "cell_type": "markdown",
      "metadata": {
        "id": "ZYudUhjXkfoh"
      },
      "source": [
        "Цикломатическое число"
      ]
    },
    {
      "cell_type": "code",
      "execution_count": null,
      "metadata": {
        "id": "ngjsBBVokfuH"
      },
      "outputs": [],
      "source": [
        "def circuit_rank(G):\n",
        "    \"\"\"\n",
        "    Вычисляет контурный ранг (цикломатическое число) графа G, используя формулу:\n",
        "    rank = E - N + C,\n",
        "    где E - количество ребер, N - количество узлов, C - количество компонент связности.\n",
        "\n",
        "    :param G: Граф, для которого вычисляется контурный ранг (цикломатическое число).\n",
        "    :return: Ранг циклов графа G.\n",
        "    \"\"\"\n",
        "    return nx.number_of_edges(G) - nx.number_of_nodes(G) + nx.number_connected_components(G)"
      ]
    },
    {
      "cell_type": "markdown",
      "metadata": {
        "id": "yMD--hEqk49A"
      },
      "source": [
        "Значение степеней вершин"
      ]
    },
    {
      "cell_type": "code",
      "execution_count": null,
      "metadata": {
        "id": "Beq4cOjMk5Cv"
      },
      "outputs": [],
      "source": [
        "from collections import Counter\n",
        "def meaning_of_degrees(G):\n",
        "    \"\"\"\n",
        "    Вычисляет максимальное, минимальное, среднее, медианное значение и моду степеней вершин в графе.\n",
        "\n",
        "    Степень вершины определяется как количество ребер, соединенных с этой вершиной.\n",
        "\n",
        "    :param G: Граф, для которого вычисляются значения.\n",
        "    :return: Кортеж, содержащий максимальное, минимальное, среднее и медианное значение степеней вершин.\n",
        "    \"\"\"\n",
        "    degrees = [val for (node, val) in G.degree()]\n",
        "    max_value = max(degrees)\n",
        "    min_value = min(degrees)\n",
        "    mean_value = sum(degrees) / len(degrees)\n",
        "    median_value = sorted(degrees)[len(degrees) // 2]\n",
        "    degree_counts = Counter(degrees)\n",
        "    mode_value = degree_counts.most_common(1)[0][0]\n",
        "\n",
        "    return max_value, min_value, mean_value, median_value, mode_value"
      ]
    },
    {
      "cell_type": "markdown",
      "metadata": {
        "id": "YbMUKtYcb6_q"
      },
      "source": [
        "Хроматическое число"
      ]
    },
    {
      "cell_type": "code",
      "execution_count": null,
      "metadata": {
        "id": "Y_lEa6tzb-ia"
      },
      "outputs": [],
      "source": [
        "def is_safe(vertex, color, color_map, G):\n",
        "    \"\"\"\n",
        "    Проверяет, можно ли безопасно окрасить вершину в указанный цвет.\n",
        "\n",
        "    :param vertex: Индекс вершины.\n",
        "    :param color: Цвет для окраски.\n",
        "    :param color_map: Текущее отображение вершин на цвета.\n",
        "    :param G: Граф.\n",
        "    :return: True, если окраска безопасна, иначе False.\n",
        "    \"\"\"\n",
        "    for neighbor in G.neighbors(vertex):\n",
        "        if color_map[neighbor] == color:\n",
        "            return False\n",
        "    return True\n",
        "\n",
        "\n",
        "def color_graph(vertex, num_colors, color_map, G):\n",
        "    \"\"\"\n",
        "    Рекурсивно пытается окрасить граф, начиная с указанной вершины.\n",
        "\n",
        "    :param vertex: Индекс вершины, с которой начинается окраска.\n",
        "    :param num_colors: Количество доступных цветов.\n",
        "    :param color_map: Текущее отображение вершин на цвета.\n",
        "    :return: True, если граф успешно окрашен, иначе False.\n",
        "    \"\"\"\n",
        "    if vertex == G.number_of_nodes():\n",
        "        return True\n",
        "\n",
        "    for color in range(num_colors):\n",
        "        if is_safe(vertex, color, color_map, G):\n",
        "            color_map[vertex] = color\n",
        "            if color_graph(vertex + 1, num_colors, color_map, G):\n",
        "                return True\n",
        "            color_map[vertex] = -1\n",
        "\n",
        "    return False\n",
        "\n",
        "\n",
        "def calculate_chromatic_number(G):\n",
        "    \"\"\"\n",
        "    Вычисляет хроматическое число графа с помощью алгоритма обратного отсчета.\n",
        "\n",
        "    :return: Хроматическое число графа.\n",
        "    \"\"\"\n",
        "    color_map = {node: -1 for node in G.nodes()}\n",
        "    num_colors = 1\n",
        "\n",
        "    while not color_graph(0, num_colors, color_map, G):\n",
        "        num_colors += 1\n",
        "        color_map = {node: -1 for node in G.nodes()}\n",
        "\n",
        "    return num_colors"
      ]
    },
    {
      "cell_type": "markdown",
      "metadata": {},
      "source": [
        "Проверка на планарность"
      ]
    },
    {
      "cell_type": "code",
      "execution_count": null,
      "metadata": {},
      "outputs": [],
      "source": [
        "def is_planar(G):\n",
        "    \"\"\"\n",
        "    Проверяет, является ли граф планарным.\n",
        "\n",
        "    :param G: Граф.\n",
        "    :return: True, если граф планарный, иначе False.\n",
        "    \"\"\"\n",
        "    return nx.algorithms.planarity.check_planarity(G)[0]"
      ]
    },
    {
      "cell_type": "markdown",
      "metadata": {},
      "source": [
        "Число граней"
      ]
    },
    {
      "cell_type": "code",
      "execution_count": null,
      "metadata": {},
      "outputs": [],
      "source": [
        "def number_faces(G):\n",
        "    \"\"\"\n",
        "    Вычисляет количество граней в планарном графе.\n",
        "\n",
        "    :param G: Планарный граф.\n",
        "    :return: Количество граней в планарном графе.\n",
        "    \"\"\"\n",
        "    return len(nx.cycle_basis(G))"
      ]
    },
    {
      "cell_type": "markdown",
      "metadata": {},
      "source": [
        "Среднее число рёбер в грани"
      ]
    },
    {
      "cell_type": "code",
      "execution_count": null,
      "metadata": {},
      "outputs": [],
      "source": [
        "def mean_number_face_edges(G):\n",
        "    \"\"\"\n",
        "    Вычисляет среднее количество ребер в грани планарного графа.\n",
        "    \n",
        "    :param G: Планарный граф.\n",
        "    :return: Среднее количество ребер в грани планарного графа.\n",
        "    \"\"\"\n",
        "    return 2 * G.number_of_edges() / number_faces(G)\n",
        "    "
      ]
    },
    {
      "cell_type": "markdown",
      "metadata": {},
      "source": [
        "Медианное число рёбер в грани"
      ]
    },
    {
      "cell_type": "code",
      "execution_count": 20,
      "metadata": {},
      "outputs": [],
      "source": [
        "def median_number_face_edges(G):\n",
        "    \"\"\"\n",
        "    Вычисляет медианное количество ребер в грани планарного графа.\n",
        "    \n",
        "    :param G: Планарный граф.\n",
        "    :return: Медианное количество ребер в грани планарного графа.\n",
        "    \"\"\"\n",
        "    face_edges = [len(face) for face in nx.cycle_basis(G)]\n",
        "    return np.median(face_edges)"
      ]
    },
    {
      "cell_type": "markdown",
      "metadata": {},
      "source": [
        "Максимальное число рёбер в грани"
      ]
    },
    {
      "cell_type": "code",
      "execution_count": null,
      "metadata": {},
      "outputs": [],
      "source": [
        "def max_number_face_edges(G):\n",
        "    \"\"\"\n",
        "    Вычисляет максимальное количество ребер в грани планарного графа.\n",
        "    \n",
        "    :param G: Планарный граф.\n",
        "    :return: Максимальное количество ребер в грани планарного графа.\n",
        "    \"\"\"\n",
        "    face_edges = [len(face) for face in nx.cycle_basis(G)]\n",
        "    return max(face_edges)"
      ]
    },
    {
      "cell_type": "markdown",
      "metadata": {},
      "source": [
        "Минимальное число рёбер в грани"
      ]
    },
    {
      "cell_type": "code",
      "execution_count": null,
      "metadata": {},
      "outputs": [],
      "source": [
        "def min_number_face_edges(G):\n",
        "    \"\"\"\n",
        "    Вычисляет минимальное количество ребер в грани планарного графа.\n",
        "\n",
        "    :param G: Планарный граф.\n",
        "    :return: Минимальное количество ребер в грани планарного графа.\n",
        "    \"\"\"\n",
        "    face_edges = [len(face) for face in nx.cycle_basis(G)]\n",
        "    return min(face_edges)"
      ]
    },
    {
      "cell_type": "markdown",
      "metadata": {
        "id": "wb9rYZFDbiws"
      },
      "source": [
        "Работа с графами"
      ]
    },
    {
      "cell_type": "code",
      "execution_count": null,
      "metadata": {
        "colab": {
          "base_uri": "https://localhost:8080/"
        },
        "id": "b1ddeCS9bi0x",
        "outputId": "30a7b8ce-3736-407a-9114-0d4aad80c302"
      },
      "outputs": [
        {
          "name": "stdout",
          "output_type": "stream",
          "text": [
            "Создан и сохранен граф: graph_0.png\n",
            "Диаметр графа: 2, Радиус графа: 1\n",
            "Максимальная степень: 4 \n",
            "Минимальная степень: 2\n",
            "Средняя степень: 3.2 \n",
            "Медианная степень: 3\n",
            "Мода: 4\n",
            "Хроматическое число графа: 4\n"
          ]
        }
      ],
      "source": [
        "for i in range(1):\n",
        "    num_nodes = random.randint(3, 5) # Количество узлов\n",
        "    edge_probability = random.random() # Вероятность создания ребра\n",
        "    G = generate_random_graph(num_nodes, edge_probability)\n",
        "    filename = f\"graph_{i}.png\"\n",
        "    save_graph(G, filename)\n",
        "    print(f\"Создан и сохранен граф: {filename}\")\n",
        "\n",
        "    diameter, radius = calculate_diameter_and_radius(G)\n",
        "    print(f\"Диаметр графа: {diameter}, Радиус графа: {radius}\")\n",
        "\n",
        "    max_degree, min_degree, mean_degree, median_degree, mode_value = meaning_of_degrees(G)\n",
        "    print(f\"Максимальная степень: {max_degree} \\nМинимальная степень: {min_degree}\\n\"\n",
        "          + f\"Средняя степень: {mean_degree} \\nМедианная степень: {median_degree}\" +\n",
        "          f\"\\nМода: {mode_value}\")\n",
        "\n",
        "    chromatic_number = calculate_chromatic_number(G)\n",
        "    print(f\"Хроматическое число графа: {chromatic_number}\")\n"
      ]
    },
    {
      "cell_type": "markdown",
      "metadata": {
        "id": "_Eg-DILyg7p-"
      },
      "source": [
        "Тесты"
      ]
    },
    {
      "cell_type": "code",
      "execution_count": 15,
      "metadata": {
        "colab": {
          "base_uri": "https://localhost:8080/"
        },
        "id": "2kw4itkbgq7a",
        "outputId": "eb71fba1-f722-4887-b445-08cff8b82ea8"
      },
      "outputs": [
        {
          "name": "stdout",
          "output_type": "stream",
          "text": [
            "Создан и сохранен граф: graph_1.png\n",
            "[(0, 2), (1, 3), (2, 3), (3, 3), (4, 1)]\n"
          ]
        }
      ],
      "source": [
        "G = nx.Graph()\n",
        "G.add_nodes_from(range(5))\n",
        "G.add_edge(0, 1)\n",
        "G.add_edge(0, 2)\n",
        "G.add_edge(1, 2)\n",
        "G.add_edge(1, 3)\n",
        "G.add_edge(2, 3)\n",
        "G.add_edge(3, 4)\n",
        "filename = f\"graph_{1}.png\"\n",
        "save_graph(G, filename)\n",
        "print(f\"Создан и сохранен граф: {filename}\")\n",
        "degrees = [(node, val) for (node, val) in G.degree()]\n",
        "print(degrees)"
      ]
    },
    {
      "cell_type": "code",
      "execution_count": 19,
      "metadata": {},
      "outputs": [
        {
          "data": {
            "image/png": "[encoded data removed]",
            "text/plain": [
              "<Figure size 640x480 with 1 Axes>"
            ]
          },
          "metadata": {},
          "output_type": "display_data"
        }
      ],
      "source": [
        "G = nx.path_graph(5)\n",
        "nx.draw_planar(G)"
      ]
    }
  ],
  "metadata": {
    "colab": {
      "provenance": []
    },
    "kernelspec": {
      "display_name": "Python 3",
      "name": "python3"
    },
    "language_info": {
      "codemirror_mode": {
        "name": "ipython",
        "version": 3
      },
      "file_extension": ".py",
      "mimetype": "text/x-python",
      "name": "python",
      "nbconvert_exporter": "python",
      "pygments_lexer": "ipython3",
      "version": "3.11.4"
    }
  },
  "nbformat": 4,
  "nbformat_minor": 0
}
